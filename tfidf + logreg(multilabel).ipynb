{
  "cells": [
    {
      "cell_type": "code",
      "execution_count": 5,
      "id": "c0e7d21c",
      "metadata": {
        "colab": {
          "base_uri": "https://localhost:8080/"
        },
        "id": "c0e7d21c",
        "outputId": "2bfc6378-b6d0-4291-dba1-12052be0c6f5"
      },
      "outputs": [
        {
          "output_type": "stream",
          "name": "stderr",
          "text": [
            "[nltk_data] Downloading package stopwords to /root/nltk_data...\n",
            "[nltk_data]   Unzipping corpora/stopwords.zip.\n",
            "[nltk_data] Downloading package punkt to /root/nltk_data...\n",
            "[nltk_data]   Unzipping tokenizers/punkt.zip.\n"
          ]
        }
      ],
      "source": [
        "import pandas as pd\n",
        "import numpy as np\n",
        "from nltk.corpus import stopwords\n",
        "import nltk\n",
        "nltk.download('stopwords')\n",
        "nltk.download('punkt')\n",
        "from nltk.tokenize import word_tokenize \n",
        "import re\n",
        "from sklearn.model_selection import train_test_split\n",
        "from sklearn.linear_model import LogisticRegression\n",
        "from sklearn.feature_extraction.text import TfidfVectorizer"
      ]
    },
    {
      "cell_type": "code",
      "execution_count": 6,
      "id": "649eb206",
      "metadata": {
        "id": "649eb206"
      },
      "outputs": [],
      "source": [
        "#загрузка данных\n",
        "\n",
        "df = pd.read_csv('train.csv')"
      ]
    },
    {
      "cell_type": "code",
      "source": [
        "df['Communication'] = (df['1category'] == 'Communication') | (df['2category'] == 'Communication')\n",
        "df['Quality'] = (df['1category'] == 'Quality') | (df['2category'] == 'Quality')\n",
        "df['Price'] = (df['1category'] == 'Price') | (df['2category'] == 'Price')\n",
        "df['Safety'] = (df['1category'] == 'Safety') | (df['2category'] == 'Safety')"
      ],
      "metadata": {
        "id": "b5yqueGEWErK"
      },
      "id": "b5yqueGEWErK",
      "execution_count": 15,
      "outputs": []
    },
    {
      "cell_type": "code",
      "source": [
        "df = df.drop(columns = ['1category', '2category'])"
      ],
      "metadata": {
        "id": "d3MCHfykbPGb"
      },
      "id": "d3MCHfykbPGb",
      "execution_count": 19,
      "outputs": []
    },
    {
      "cell_type": "code",
      "source": [
        "df.to_csv('bebra.csv')"
      ],
      "metadata": {
        "id": "hVa3SC5wcDft"
      },
      "id": "hVa3SC5wcDft",
      "execution_count": 20,
      "outputs": []
    },
    {
      "cell_type": "code",
      "source": [
        "nltk.download('wordnet')"
      ],
      "metadata": {
        "colab": {
          "base_uri": "https://localhost:8080/"
        },
        "id": "ObjCUi4BMHWQ",
        "outputId": "8e8a2100-2efc-417d-a8d4-cf7f94ff247d"
      },
      "id": "ObjCUi4BMHWQ",
      "execution_count": 21,
      "outputs": [
        {
          "output_type": "stream",
          "name": "stderr",
          "text": [
            "[nltk_data] Downloading package wordnet to /root/nltk_data...\n"
          ]
        },
        {
          "output_type": "execute_result",
          "data": {
            "text/plain": [
              "True"
            ]
          },
          "metadata": {},
          "execution_count": 21
        }
      ]
    },
    {
      "cell_type": "code",
      "source": [
        "stopwords_list = stopwords.words('russian')\n",
        "for word in ['не', 'нет', 'да', 'никогда', 'без', 'хорошо', 'лучше']:\n",
        "  stopwords_list.remove(word)"
      ],
      "metadata": {
        "id": "Bg-o8C9UMBM5"
      },
      "id": "Bg-o8C9UMBM5",
      "execution_count": 22,
      "outputs": []
    },
    {
      "cell_type": "code",
      "source": [
        "from nltk.stem import WordNetLemmatizer\n",
        "\n",
        "lemmatizer = WordNetLemmatizer()"
      ],
      "metadata": {
        "id": "v2tELgIyMDnl"
      },
      "id": "v2tELgIyMDnl",
      "execution_count": 23,
      "outputs": []
    },
    {
      "cell_type": "code",
      "execution_count": 24,
      "id": "e5d312d2",
      "metadata": {
        "id": "e5d312d2"
      },
      "outputs": [],
      "source": [
        "#обработка\n",
        "\n",
        "def preprocess(string):\n",
        "  word_tokens = word_tokenize(string.lower())\n",
        "  return \" \".join([lemmatizer.lemmatize(w) for w in word_tokens if not w in stopwords_list and w.isalpha()])"
      ]
    },
    {
      "cell_type": "code",
      "execution_count": 25,
      "id": "1a6b1d51",
      "metadata": {
        "id": "1a6b1d51"
      },
      "outputs": [],
      "source": [
        "#jxbcnrf текста\n",
        "\n",
        "df['sentence'] = df['sentence'].map(preprocess)"
      ]
    },
    {
      "cell_type": "code",
      "execution_count": 29,
      "id": "fWsrhywUHDO1",
      "metadata": {
        "id": "fWsrhywUHDO1"
      },
      "outputs": [],
      "source": [
        "#gfp,bnbt на тренировочный и валидационный наборы данных\n",
        "\n",
        "training_data, test_data = train_test_split(df, train_size = 0.7, random_state=42)"
      ]
    },
    {
      "cell_type": "code",
      "execution_count": 32,
      "id": "FIaTDadZshgc",
      "metadata": {
        "id": "FIaTDadZshgc"
      },
      "outputs": [],
      "source": [
        "#инициализация модели tf-idf\n",
        "\n",
        "tfidf_transform = TfidfVectorizer(ngram_range=(1, 2), lowercase=True, max_features=30000)"
      ]
    },
    {
      "cell_type": "code",
      "execution_count": 33,
      "id": "h0MzhJQisqgz",
      "metadata": {
        "id": "h0MzhJQisqgz"
      },
      "outputs": [],
      "source": [
        "X_train = tfidf_transform.fit_transform(training_data['sentence'])\n",
        "X_validation = tfidf_transform.transform(test_data['sentence'])\n",
        "y_train = training_data[['Communication', 'Quality', 'Price', 'Safety']]\n",
        "y_test = test_data[['Communication', 'Quality', 'Price', 'Safety']]"
      ]
    },
    {
      "cell_type": "code",
      "execution_count": 34,
      "id": "qBRxqQres_6y",
      "metadata": {
        "id": "qBRxqQres_6y"
      },
      "outputs": [],
      "source": [
        "logit = LogisticRegression()"
      ]
    },
    {
      "cell_type": "code",
      "execution_count": 35,
      "id": "cLRQUCtjtDld",
      "metadata": {
        "id": "cLRQUCtjtDld"
      },
      "outputs": [],
      "source": [
        "#обучение\n",
        "from sklearn.multiclass import OneVsRestClassifier\n",
        "clf = OneVsRestClassifier(logit)\n",
        "clf.fit(X_train, y_train)\n",
        "y_pred = clf.predict(X_validation)"
      ]
    },
    {
      "cell_type": "code",
      "execution_count": 40,
      "id": "2Wx2ITMx8VrH",
      "metadata": {
        "id": "2Wx2ITMx8VrH",
        "colab": {
          "base_uri": "https://localhost:8080/",
          "height": 423
        },
        "outputId": "fdc99405-9b33-4704-c349-0b40d5c50b87"
      },
      "outputs": [
        {
          "output_type": "execute_result",
          "data": {
            "text/plain": [
              "       Communication  Quality  Price  Safety\n",
              "9672           False     True  False   False\n",
              "10901          False     True  False   False\n",
              "19283           True    False  False   False\n",
              "18280          False     True  False   False\n",
              "5466           False    False  False   False\n",
              "...              ...      ...    ...     ...\n",
              "4096           False    False  False   False\n",
              "2213            True    False  False   False\n",
              "6234            True    False  False   False\n",
              "17651           True    False  False   False\n",
              "3336            True    False  False   False\n",
              "\n",
              "[5809 rows x 4 columns]"
            ],
            "text/html": [
              "\n",
              "  <div id=\"df-4f020c8f-5160-40ee-889f-bb3277a64e9e\">\n",
              "    <div class=\"colab-df-container\">\n",
              "      <div>\n",
              "<style scoped>\n",
              "    .dataframe tbody tr th:only-of-type {\n",
              "        vertical-align: middle;\n",
              "    }\n",
              "\n",
              "    .dataframe tbody tr th {\n",
              "        vertical-align: top;\n",
              "    }\n",
              "\n",
              "    .dataframe thead th {\n",
              "        text-align: right;\n",
              "    }\n",
              "</style>\n",
              "<table border=\"1\" class=\"dataframe\">\n",
              "  <thead>\n",
              "    <tr style=\"text-align: right;\">\n",
              "      <th></th>\n",
              "      <th>Communication</th>\n",
              "      <th>Quality</th>\n",
              "      <th>Price</th>\n",
              "      <th>Safety</th>\n",
              "    </tr>\n",
              "  </thead>\n",
              "  <tbody>\n",
              "    <tr>\n",
              "      <th>9672</th>\n",
              "      <td>False</td>\n",
              "      <td>True</td>\n",
              "      <td>False</td>\n",
              "      <td>False</td>\n",
              "    </tr>\n",
              "    <tr>\n",
              "      <th>10901</th>\n",
              "      <td>False</td>\n",
              "      <td>True</td>\n",
              "      <td>False</td>\n",
              "      <td>False</td>\n",
              "    </tr>\n",
              "    <tr>\n",
              "      <th>19283</th>\n",
              "      <td>True</td>\n",
              "      <td>False</td>\n",
              "      <td>False</td>\n",
              "      <td>False</td>\n",
              "    </tr>\n",
              "    <tr>\n",
              "      <th>18280</th>\n",
              "      <td>False</td>\n",
              "      <td>True</td>\n",
              "      <td>False</td>\n",
              "      <td>False</td>\n",
              "    </tr>\n",
              "    <tr>\n",
              "      <th>5466</th>\n",
              "      <td>False</td>\n",
              "      <td>False</td>\n",
              "      <td>False</td>\n",
              "      <td>False</td>\n",
              "    </tr>\n",
              "    <tr>\n",
              "      <th>...</th>\n",
              "      <td>...</td>\n",
              "      <td>...</td>\n",
              "      <td>...</td>\n",
              "      <td>...</td>\n",
              "    </tr>\n",
              "    <tr>\n",
              "      <th>4096</th>\n",
              "      <td>False</td>\n",
              "      <td>False</td>\n",
              "      <td>False</td>\n",
              "      <td>False</td>\n",
              "    </tr>\n",
              "    <tr>\n",
              "      <th>2213</th>\n",
              "      <td>True</td>\n",
              "      <td>False</td>\n",
              "      <td>False</td>\n",
              "      <td>False</td>\n",
              "    </tr>\n",
              "    <tr>\n",
              "      <th>6234</th>\n",
              "      <td>True</td>\n",
              "      <td>False</td>\n",
              "      <td>False</td>\n",
              "      <td>False</td>\n",
              "    </tr>\n",
              "    <tr>\n",
              "      <th>17651</th>\n",
              "      <td>True</td>\n",
              "      <td>False</td>\n",
              "      <td>False</td>\n",
              "      <td>False</td>\n",
              "    </tr>\n",
              "    <tr>\n",
              "      <th>3336</th>\n",
              "      <td>True</td>\n",
              "      <td>False</td>\n",
              "      <td>False</td>\n",
              "      <td>False</td>\n",
              "    </tr>\n",
              "  </tbody>\n",
              "</table>\n",
              "<p>5809 rows × 4 columns</p>\n",
              "</div>\n",
              "      <button class=\"colab-df-convert\" onclick=\"convertToInteractive('df-4f020c8f-5160-40ee-889f-bb3277a64e9e')\"\n",
              "              title=\"Convert this dataframe to an interactive table.\"\n",
              "              style=\"display:none;\">\n",
              "        \n",
              "  <svg xmlns=\"http://www.w3.org/2000/svg\" height=\"24px\"viewBox=\"0 0 24 24\"\n",
              "       width=\"24px\">\n",
              "    <path d=\"M0 0h24v24H0V0z\" fill=\"none\"/>\n",
              "    <path d=\"M18.56 5.44l.94 2.06.94-2.06 2.06-.94-2.06-.94-.94-2.06-.94 2.06-2.06.94zm-11 1L8.5 8.5l.94-2.06 2.06-.94-2.06-.94L8.5 2.5l-.94 2.06-2.06.94zm10 10l.94 2.06.94-2.06 2.06-.94-2.06-.94-.94-2.06-.94 2.06-2.06.94z\"/><path d=\"M17.41 7.96l-1.37-1.37c-.4-.4-.92-.59-1.43-.59-.52 0-1.04.2-1.43.59L10.3 9.45l-7.72 7.72c-.78.78-.78 2.05 0 2.83L4 21.41c.39.39.9.59 1.41.59.51 0 1.02-.2 1.41-.59l7.78-7.78 2.81-2.81c.8-.78.8-2.07 0-2.86zM5.41 20L4 18.59l7.72-7.72 1.47 1.35L5.41 20z\"/>\n",
              "  </svg>\n",
              "      </button>\n",
              "      \n",
              "  <style>\n",
              "    .colab-df-container {\n",
              "      display:flex;\n",
              "      flex-wrap:wrap;\n",
              "      gap: 12px;\n",
              "    }\n",
              "\n",
              "    .colab-df-convert {\n",
              "      background-color: #E8F0FE;\n",
              "      border: none;\n",
              "      border-radius: 50%;\n",
              "      cursor: pointer;\n",
              "      display: none;\n",
              "      fill: #1967D2;\n",
              "      height: 32px;\n",
              "      padding: 0 0 0 0;\n",
              "      width: 32px;\n",
              "    }\n",
              "\n",
              "    .colab-df-convert:hover {\n",
              "      background-color: #E2EBFA;\n",
              "      box-shadow: 0px 1px 2px rgba(60, 64, 67, 0.3), 0px 1px 3px 1px rgba(60, 64, 67, 0.15);\n",
              "      fill: #174EA6;\n",
              "    }\n",
              "\n",
              "    [theme=dark] .colab-df-convert {\n",
              "      background-color: #3B4455;\n",
              "      fill: #D2E3FC;\n",
              "    }\n",
              "\n",
              "    [theme=dark] .colab-df-convert:hover {\n",
              "      background-color: #434B5C;\n",
              "      box-shadow: 0px 1px 3px 1px rgba(0, 0, 0, 0.15);\n",
              "      filter: drop-shadow(0px 1px 2px rgba(0, 0, 0, 0.3));\n",
              "      fill: #FFFFFF;\n",
              "    }\n",
              "  </style>\n",
              "\n",
              "      <script>\n",
              "        const buttonEl =\n",
              "          document.querySelector('#df-4f020c8f-5160-40ee-889f-bb3277a64e9e button.colab-df-convert');\n",
              "        buttonEl.style.display =\n",
              "          google.colab.kernel.accessAllowed ? 'block' : 'none';\n",
              "\n",
              "        async function convertToInteractive(key) {\n",
              "          const element = document.querySelector('#df-4f020c8f-5160-40ee-889f-bb3277a64e9e');\n",
              "          const dataTable =\n",
              "            await google.colab.kernel.invokeFunction('convertToInteractive',\n",
              "                                                     [key], {});\n",
              "          if (!dataTable) return;\n",
              "\n",
              "          const docLinkHtml = 'Like what you see? Visit the ' +\n",
              "            '<a target=\"_blank\" href=https://colab.research.google.com/notebooks/data_table.ipynb>data table notebook</a>'\n",
              "            + ' to learn more about interactive tables.';\n",
              "          element.innerHTML = '';\n",
              "          dataTable['output_type'] = 'display_data';\n",
              "          await google.colab.output.renderOutput(dataTable, element);\n",
              "          const docLink = document.createElement('div');\n",
              "          docLink.innerHTML = docLinkHtml;\n",
              "          element.appendChild(docLink);\n",
              "        }\n",
              "      </script>\n",
              "    </div>\n",
              "  </div>\n",
              "  "
            ]
          },
          "metadata": {},
          "execution_count": 40
        }
      ],
      "source": [
        "y_test "
      ]
    },
    {
      "cell_type": "code",
      "source": [
        "from sklearn.metrics import roc_auc_score\n",
        "roc_auc_score(y_test, clf.predict_proba(X_validation), multi_class='ovr')"
      ],
      "metadata": {
        "colab": {
          "base_uri": "https://localhost:8080/"
        },
        "id": "r11tptaGO7Ft",
        "outputId": "ce07f7bf-3989-4c4b-809d-efc18ea3adc2"
      },
      "id": "r11tptaGO7Ft",
      "execution_count": 41,
      "outputs": [
        {
          "output_type": "execute_result",
          "data": {
            "text/plain": [
              "0.8226371037818205"
            ]
          },
          "metadata": {},
          "execution_count": 41
        }
      ]
    },
    {
      "cell_type": "code",
      "source": [
        "data"
      ],
      "metadata": {
        "colab": {
          "base_uri": "https://localhost:8080/"
        },
        "id": "5S3WRzpUsgpw",
        "outputId": "00d51d70-cd09-46f7-a558-b98887266c82"
      },
      "id": "5S3WRzpUsgpw",
      "execution_count": 47,
      "outputs": [
        {
          "output_type": "execute_result",
          "data": {
            "text/plain": [
              "array([[0.35793901, 0.22163683, 0.02484095, 0.01413242],\n",
              "       [0.22058164, 0.54176241, 0.03410079, 0.01913691],\n",
              "       [0.39394269, 0.22345062, 0.03843198, 0.01153791],\n",
              "       ...,\n",
              "       [0.31137111, 0.50017986, 0.01500022, 0.01009413],\n",
              "       [0.32655853, 0.30686921, 0.02174855, 0.01074048],\n",
              "       [0.65954746, 0.11928661, 0.01953005, 0.01008345]])"
            ]
          },
          "metadata": {},
          "execution_count": 47
        }
      ]
    },
    {
      "cell_type": "code",
      "source": [
        "y_pred"
      ],
      "metadata": {
        "colab": {
          "base_uri": "https://localhost:8080/"
        },
        "id": "pVq2VRV3slVp",
        "outputId": "f98b14b4-1420-4a26-b1fb-cee31309244f"
      },
      "id": "pVq2VRV3slVp",
      "execution_count": 48,
      "outputs": [
        {
          "output_type": "execute_result",
          "data": {
            "text/plain": [
              "array([[0, 0, 0, 0],\n",
              "       [0, 1, 0, 0],\n",
              "       [0, 0, 0, 0],\n",
              "       ...,\n",
              "       [0, 1, 0, 0],\n",
              "       [0, 0, 0, 0],\n",
              "       [1, 0, 0, 0]])"
            ]
          },
          "metadata": {},
          "execution_count": 48
        }
      ]
    },
    {
      "cell_type": "code",
      "source": [
        "data = clf.predict_proba(X_validation)\n",
        "dataset = pd.DataFrame({'Communication': data[:, 0], 'Quality': data[:, 1], 'Price': data[:, 2], 'Safety': data[:, 4]})"
      ],
      "metadata": {
        "id": "nqJ9I0jBpopU"
      },
      "id": "nqJ9I0jBpopU",
      "execution_count": 45,
      "outputs": []
    },
    {
      "cell_type": "code",
      "source": [
        "test_df = pd.read_csv('test_for_participants.csv')\n",
        "X_test = tfidf_transform.transform(test_df['sentence'])"
      ],
      "metadata": {
        "id": "0F-akRG4uoj1"
      },
      "id": "0F-akRG4uoj1",
      "execution_count": 68,
      "outputs": []
    },
    {
      "cell_type": "code",
      "source": [
        "X_test.shape"
      ],
      "metadata": {
        "colab": {
          "base_uri": "https://localhost:8080/"
        },
        "id": "oNT-5zZ_w8Yi",
        "outputId": "811767f6-13c4-4d79-fbeb-aee58bf663fd"
      },
      "id": "oNT-5zZ_w8Yi",
      "execution_count": 69,
      "outputs": [
        {
          "output_type": "execute_result",
          "data": {
            "text/plain": [
              "(2152, 30000)"
            ]
          },
          "metadata": {},
          "execution_count": 69
        }
      ]
    },
    {
      "cell_type": "code",
      "source": [
        "test_pred = clf.predict(X_test)"
      ],
      "metadata": {
        "id": "tgmf1eR_vMyG"
      },
      "id": "tgmf1eR_vMyG",
      "execution_count": 70,
      "outputs": []
    },
    {
      "cell_type": "code",
      "source": [
        "len(test_pred)"
      ],
      "metadata": {
        "colab": {
          "base_uri": "https://localhost:8080/"
        },
        "id": "m8LQVFtPvPmn",
        "outputId": "3bfd7eec-81e6-4300-b254-7e3bd4b833d4"
      },
      "id": "m8LQVFtPvPmn",
      "execution_count": 71,
      "outputs": [
        {
          "output_type": "execute_result",
          "data": {
            "text/plain": [
              "2152"
            ]
          },
          "metadata": {},
          "execution_count": 71
        }
      ]
    },
    {
      "cell_type": "code",
      "source": [
        "test_data = clf.predict_proba(X_test)"
      ],
      "metadata": {
        "id": "7KZskl3nvT0o"
      },
      "id": "7KZskl3nvT0o",
      "execution_count": 72,
      "outputs": []
    },
    {
      "cell_type": "code",
      "source": [
        "dataset = pd.DataFrame({'Communication': test_data[:, 0], 'Quality': test_data[:, 1], 'Price': test_data[:, 2], 'Safety': test_data[:, 3]})"
      ],
      "metadata": {
        "id": "mxQN7GXywI56"
      },
      "id": "mxQN7GXywI56",
      "execution_count": 73,
      "outputs": []
    },
    {
      "cell_type": "code",
      "source": [
        "dataset"
      ],
      "metadata": {
        "colab": {
          "base_uri": "https://localhost:8080/",
          "height": 423
        },
        "id": "o0Q4uHKXwnUd",
        "outputId": "dc81bee3-9db2-4aac-85ae-2fc6e2862b14"
      },
      "id": "o0Q4uHKXwnUd",
      "execution_count": 74,
      "outputs": [
        {
          "output_type": "execute_result",
          "data": {
            "text/plain": [
              "      Communication   Quality     Price    Safety\n",
              "0          0.301038  0.504962  0.018177  0.018783\n",
              "1          0.409743  0.217172  0.016680  0.011595\n",
              "2          0.596976  0.236535  0.014084  0.022842\n",
              "3          0.642198  0.198208  0.017027  0.010032\n",
              "4          0.172263  0.363616  0.056753  0.014458\n",
              "...             ...       ...       ...       ...\n",
              "2147       0.220834  0.349715  0.230937  0.011885\n",
              "2148       0.318443  0.400070  0.017178  0.008167\n",
              "2149       0.409912  0.323713  0.028449  0.010897\n",
              "2150       0.343435  0.330666  0.022860  0.015732\n",
              "2151       0.368185  0.365852  0.013416  0.014826\n",
              "\n",
              "[2152 rows x 4 columns]"
            ],
            "text/html": [
              "\n",
              "  <div id=\"df-a78dcedc-1ad9-4cf2-968e-818943689a90\">\n",
              "    <div class=\"colab-df-container\">\n",
              "      <div>\n",
              "<style scoped>\n",
              "    .dataframe tbody tr th:only-of-type {\n",
              "        vertical-align: middle;\n",
              "    }\n",
              "\n",
              "    .dataframe tbody tr th {\n",
              "        vertical-align: top;\n",
              "    }\n",
              "\n",
              "    .dataframe thead th {\n",
              "        text-align: right;\n",
              "    }\n",
              "</style>\n",
              "<table border=\"1\" class=\"dataframe\">\n",
              "  <thead>\n",
              "    <tr style=\"text-align: right;\">\n",
              "      <th></th>\n",
              "      <th>Communication</th>\n",
              "      <th>Quality</th>\n",
              "      <th>Price</th>\n",
              "      <th>Safety</th>\n",
              "    </tr>\n",
              "  </thead>\n",
              "  <tbody>\n",
              "    <tr>\n",
              "      <th>0</th>\n",
              "      <td>0.301038</td>\n",
              "      <td>0.504962</td>\n",
              "      <td>0.018177</td>\n",
              "      <td>0.018783</td>\n",
              "    </tr>\n",
              "    <tr>\n",
              "      <th>1</th>\n",
              "      <td>0.409743</td>\n",
              "      <td>0.217172</td>\n",
              "      <td>0.016680</td>\n",
              "      <td>0.011595</td>\n",
              "    </tr>\n",
              "    <tr>\n",
              "      <th>2</th>\n",
              "      <td>0.596976</td>\n",
              "      <td>0.236535</td>\n",
              "      <td>0.014084</td>\n",
              "      <td>0.022842</td>\n",
              "    </tr>\n",
              "    <tr>\n",
              "      <th>3</th>\n",
              "      <td>0.642198</td>\n",
              "      <td>0.198208</td>\n",
              "      <td>0.017027</td>\n",
              "      <td>0.010032</td>\n",
              "    </tr>\n",
              "    <tr>\n",
              "      <th>4</th>\n",
              "      <td>0.172263</td>\n",
              "      <td>0.363616</td>\n",
              "      <td>0.056753</td>\n",
              "      <td>0.014458</td>\n",
              "    </tr>\n",
              "    <tr>\n",
              "      <th>...</th>\n",
              "      <td>...</td>\n",
              "      <td>...</td>\n",
              "      <td>...</td>\n",
              "      <td>...</td>\n",
              "    </tr>\n",
              "    <tr>\n",
              "      <th>2147</th>\n",
              "      <td>0.220834</td>\n",
              "      <td>0.349715</td>\n",
              "      <td>0.230937</td>\n",
              "      <td>0.011885</td>\n",
              "    </tr>\n",
              "    <tr>\n",
              "      <th>2148</th>\n",
              "      <td>0.318443</td>\n",
              "      <td>0.400070</td>\n",
              "      <td>0.017178</td>\n",
              "      <td>0.008167</td>\n",
              "    </tr>\n",
              "    <tr>\n",
              "      <th>2149</th>\n",
              "      <td>0.409912</td>\n",
              "      <td>0.323713</td>\n",
              "      <td>0.028449</td>\n",
              "      <td>0.010897</td>\n",
              "    </tr>\n",
              "    <tr>\n",
              "      <th>2150</th>\n",
              "      <td>0.343435</td>\n",
              "      <td>0.330666</td>\n",
              "      <td>0.022860</td>\n",
              "      <td>0.015732</td>\n",
              "    </tr>\n",
              "    <tr>\n",
              "      <th>2151</th>\n",
              "      <td>0.368185</td>\n",
              "      <td>0.365852</td>\n",
              "      <td>0.013416</td>\n",
              "      <td>0.014826</td>\n",
              "    </tr>\n",
              "  </tbody>\n",
              "</table>\n",
              "<p>2152 rows × 4 columns</p>\n",
              "</div>\n",
              "      <button class=\"colab-df-convert\" onclick=\"convertToInteractive('df-a78dcedc-1ad9-4cf2-968e-818943689a90')\"\n",
              "              title=\"Convert this dataframe to an interactive table.\"\n",
              "              style=\"display:none;\">\n",
              "        \n",
              "  <svg xmlns=\"http://www.w3.org/2000/svg\" height=\"24px\"viewBox=\"0 0 24 24\"\n",
              "       width=\"24px\">\n",
              "    <path d=\"M0 0h24v24H0V0z\" fill=\"none\"/>\n",
              "    <path d=\"M18.56 5.44l.94 2.06.94-2.06 2.06-.94-2.06-.94-.94-2.06-.94 2.06-2.06.94zm-11 1L8.5 8.5l.94-2.06 2.06-.94-2.06-.94L8.5 2.5l-.94 2.06-2.06.94zm10 10l.94 2.06.94-2.06 2.06-.94-2.06-.94-.94-2.06-.94 2.06-2.06.94z\"/><path d=\"M17.41 7.96l-1.37-1.37c-.4-.4-.92-.59-1.43-.59-.52 0-1.04.2-1.43.59L10.3 9.45l-7.72 7.72c-.78.78-.78 2.05 0 2.83L4 21.41c.39.39.9.59 1.41.59.51 0 1.02-.2 1.41-.59l7.78-7.78 2.81-2.81c.8-.78.8-2.07 0-2.86zM5.41 20L4 18.59l7.72-7.72 1.47 1.35L5.41 20z\"/>\n",
              "  </svg>\n",
              "      </button>\n",
              "      \n",
              "  <style>\n",
              "    .colab-df-container {\n",
              "      display:flex;\n",
              "      flex-wrap:wrap;\n",
              "      gap: 12px;\n",
              "    }\n",
              "\n",
              "    .colab-df-convert {\n",
              "      background-color: #E8F0FE;\n",
              "      border: none;\n",
              "      border-radius: 50%;\n",
              "      cursor: pointer;\n",
              "      display: none;\n",
              "      fill: #1967D2;\n",
              "      height: 32px;\n",
              "      padding: 0 0 0 0;\n",
              "      width: 32px;\n",
              "    }\n",
              "\n",
              "    .colab-df-convert:hover {\n",
              "      background-color: #E2EBFA;\n",
              "      box-shadow: 0px 1px 2px rgba(60, 64, 67, 0.3), 0px 1px 3px 1px rgba(60, 64, 67, 0.15);\n",
              "      fill: #174EA6;\n",
              "    }\n",
              "\n",
              "    [theme=dark] .colab-df-convert {\n",
              "      background-color: #3B4455;\n",
              "      fill: #D2E3FC;\n",
              "    }\n",
              "\n",
              "    [theme=dark] .colab-df-convert:hover {\n",
              "      background-color: #434B5C;\n",
              "      box-shadow: 0px 1px 3px 1px rgba(0, 0, 0, 0.15);\n",
              "      filter: drop-shadow(0px 1px 2px rgba(0, 0, 0, 0.3));\n",
              "      fill: #FFFFFF;\n",
              "    }\n",
              "  </style>\n",
              "\n",
              "      <script>\n",
              "        const buttonEl =\n",
              "          document.querySelector('#df-a78dcedc-1ad9-4cf2-968e-818943689a90 button.colab-df-convert');\n",
              "        buttonEl.style.display =\n",
              "          google.colab.kernel.accessAllowed ? 'block' : 'none';\n",
              "\n",
              "        async function convertToInteractive(key) {\n",
              "          const element = document.querySelector('#df-a78dcedc-1ad9-4cf2-968e-818943689a90');\n",
              "          const dataTable =\n",
              "            await google.colab.kernel.invokeFunction('convertToInteractive',\n",
              "                                                     [key], {});\n",
              "          if (!dataTable) return;\n",
              "\n",
              "          const docLinkHtml = 'Like what you see? Visit the ' +\n",
              "            '<a target=\"_blank\" href=https://colab.research.google.com/notebooks/data_table.ipynb>data table notebook</a>'\n",
              "            + ' to learn more about interactive tables.';\n",
              "          element.innerHTML = '';\n",
              "          dataTable['output_type'] = 'display_data';\n",
              "          await google.colab.output.renderOutput(dataTable, element);\n",
              "          const docLink = document.createElement('div');\n",
              "          docLink.innerHTML = docLinkHtml;\n",
              "          element.appendChild(docLink);\n",
              "        }\n",
              "      </script>\n",
              "    </div>\n",
              "  </div>\n",
              "  "
            ]
          },
          "metadata": {},
          "execution_count": 74
        }
      ]
    },
    {
      "cell_type": "code",
      "source": [
        "output_df = pd.DataFrame(columns = ['sentence', '1category', '1categoryprob', '2category', '2categoryprob'], index=range(2152))"
      ],
      "metadata": {
        "id": "Rr5YrtSXyNDB"
      },
      "id": "Rr5YrtSXyNDB",
      "execution_count": 88,
      "outputs": []
    },
    {
      "cell_type": "code",
      "source": [
        "output_df['1category'] = dataset.idxmax(axis=1)\n",
        "output_df['1categoryprob'] = dataset.max(axis=1)\n",
        "output_df['2category'] = dataset.mask(dataset.eq(dataset.max(axis=1), axis=0)).idxmax(axis=1)\n",
        "output_df['2categoryprob'] = dataset.mask(dataset.eq(dataset.max(axis=1), axis=0)).max(axis=1)"
      ],
      "metadata": {
        "id": "T58nzWhNzToE"
      },
      "id": "T58nzWhNzToE",
      "execution_count": 89,
      "outputs": []
    },
    {
      "cell_type": "code",
      "source": [
        "output_df['sentence'] = test_df.sentence"
      ],
      "metadata": {
        "id": "OlPii8Vb1LQy"
      },
      "id": "OlPii8Vb1LQy",
      "execution_count": 91,
      "outputs": []
    },
    {
      "cell_type": "code",
      "source": [
        "output_df"
      ],
      "metadata": {
        "colab": {
          "base_uri": "https://localhost:8080/",
          "height": 423
        },
        "id": "4AKicKc40pIf",
        "outputId": "adcf21f3-7ded-436b-89f1-938dee57bc08"
      },
      "id": "4AKicKc40pIf",
      "execution_count": 92,
      "outputs": [
        {
          "output_type": "execute_result",
          "data": {
            "text/plain": [
              "                                               sentence      1category  \\\n",
              "0     Очень неприятная ситуация, надеюсь, банк либо ...        Quality   \n",
              "1     За что выражаю благодарность и банку и данному...  Communication   \n",
              "2     Вывод: информация полученная в смс от банка, и...  Communication   \n",
              "3     Хочу по благодарить ее за чуткое отношение к н...  Communication   \n",
              "4     Показал, что я и вклад могу свой пополнять пря...        Quality   \n",
              "...                                                 ...            ...   \n",
              "2147                  Верная (по их мнению) ставка 13%.        Quality   \n",
              "2148  Спасибо Промсвязьбанку за гибкий и человечески...        Quality   \n",
              "2149  Это говорит о том, что обслуживание находится ...  Communication   \n",
              "2150                  Без платежки ничего не принимают!  Communication   \n",
              "2151  Хочу отметить превосходную работу аналитическо...  Communication   \n",
              "\n",
              "      1categoryprob      2category  2categoryprob  \n",
              "0          0.504962  Communication       0.301038  \n",
              "1          0.409743        Quality       0.217172  \n",
              "2          0.596976        Quality       0.236535  \n",
              "3          0.642198        Quality       0.198208  \n",
              "4          0.363616  Communication       0.172263  \n",
              "...             ...            ...            ...  \n",
              "2147       0.349715          Price       0.230937  \n",
              "2148       0.400070  Communication       0.318443  \n",
              "2149       0.409912        Quality       0.323713  \n",
              "2150       0.343435        Quality       0.330666  \n",
              "2151       0.368185        Quality       0.365852  \n",
              "\n",
              "[2152 rows x 5 columns]"
            ],
            "text/html": [
              "\n",
              "  <div id=\"df-2f26e2c1-8c90-476f-bfb6-2ad17b69384d\">\n",
              "    <div class=\"colab-df-container\">\n",
              "      <div>\n",
              "<style scoped>\n",
              "    .dataframe tbody tr th:only-of-type {\n",
              "        vertical-align: middle;\n",
              "    }\n",
              "\n",
              "    .dataframe tbody tr th {\n",
              "        vertical-align: top;\n",
              "    }\n",
              "\n",
              "    .dataframe thead th {\n",
              "        text-align: right;\n",
              "    }\n",
              "</style>\n",
              "<table border=\"1\" class=\"dataframe\">\n",
              "  <thead>\n",
              "    <tr style=\"text-align: right;\">\n",
              "      <th></th>\n",
              "      <th>sentence</th>\n",
              "      <th>1category</th>\n",
              "      <th>1categoryprob</th>\n",
              "      <th>2category</th>\n",
              "      <th>2categoryprob</th>\n",
              "    </tr>\n",
              "  </thead>\n",
              "  <tbody>\n",
              "    <tr>\n",
              "      <th>0</th>\n",
              "      <td>Очень неприятная ситуация, надеюсь, банк либо ...</td>\n",
              "      <td>Quality</td>\n",
              "      <td>0.504962</td>\n",
              "      <td>Communication</td>\n",
              "      <td>0.301038</td>\n",
              "    </tr>\n",
              "    <tr>\n",
              "      <th>1</th>\n",
              "      <td>За что выражаю благодарность и банку и данному...</td>\n",
              "      <td>Communication</td>\n",
              "      <td>0.409743</td>\n",
              "      <td>Quality</td>\n",
              "      <td>0.217172</td>\n",
              "    </tr>\n",
              "    <tr>\n",
              "      <th>2</th>\n",
              "      <td>Вывод: информация полученная в смс от банка, и...</td>\n",
              "      <td>Communication</td>\n",
              "      <td>0.596976</td>\n",
              "      <td>Quality</td>\n",
              "      <td>0.236535</td>\n",
              "    </tr>\n",
              "    <tr>\n",
              "      <th>3</th>\n",
              "      <td>Хочу по благодарить ее за чуткое отношение к н...</td>\n",
              "      <td>Communication</td>\n",
              "      <td>0.642198</td>\n",
              "      <td>Quality</td>\n",
              "      <td>0.198208</td>\n",
              "    </tr>\n",
              "    <tr>\n",
              "      <th>4</th>\n",
              "      <td>Показал, что я и вклад могу свой пополнять пря...</td>\n",
              "      <td>Quality</td>\n",
              "      <td>0.363616</td>\n",
              "      <td>Communication</td>\n",
              "      <td>0.172263</td>\n",
              "    </tr>\n",
              "    <tr>\n",
              "      <th>...</th>\n",
              "      <td>...</td>\n",
              "      <td>...</td>\n",
              "      <td>...</td>\n",
              "      <td>...</td>\n",
              "      <td>...</td>\n",
              "    </tr>\n",
              "    <tr>\n",
              "      <th>2147</th>\n",
              "      <td>Верная (по их мнению) ставка 13%.</td>\n",
              "      <td>Quality</td>\n",
              "      <td>0.349715</td>\n",
              "      <td>Price</td>\n",
              "      <td>0.230937</td>\n",
              "    </tr>\n",
              "    <tr>\n",
              "      <th>2148</th>\n",
              "      <td>Спасибо Промсвязьбанку за гибкий и человечески...</td>\n",
              "      <td>Quality</td>\n",
              "      <td>0.400070</td>\n",
              "      <td>Communication</td>\n",
              "      <td>0.318443</td>\n",
              "    </tr>\n",
              "    <tr>\n",
              "      <th>2149</th>\n",
              "      <td>Это говорит о том, что обслуживание находится ...</td>\n",
              "      <td>Communication</td>\n",
              "      <td>0.409912</td>\n",
              "      <td>Quality</td>\n",
              "      <td>0.323713</td>\n",
              "    </tr>\n",
              "    <tr>\n",
              "      <th>2150</th>\n",
              "      <td>Без платежки ничего не принимают!</td>\n",
              "      <td>Communication</td>\n",
              "      <td>0.343435</td>\n",
              "      <td>Quality</td>\n",
              "      <td>0.330666</td>\n",
              "    </tr>\n",
              "    <tr>\n",
              "      <th>2151</th>\n",
              "      <td>Хочу отметить превосходную работу аналитическо...</td>\n",
              "      <td>Communication</td>\n",
              "      <td>0.368185</td>\n",
              "      <td>Quality</td>\n",
              "      <td>0.365852</td>\n",
              "    </tr>\n",
              "  </tbody>\n",
              "</table>\n",
              "<p>2152 rows × 5 columns</p>\n",
              "</div>\n",
              "      <button class=\"colab-df-convert\" onclick=\"convertToInteractive('df-2f26e2c1-8c90-476f-bfb6-2ad17b69384d')\"\n",
              "              title=\"Convert this dataframe to an interactive table.\"\n",
              "              style=\"display:none;\">\n",
              "        \n",
              "  <svg xmlns=\"http://www.w3.org/2000/svg\" height=\"24px\"viewBox=\"0 0 24 24\"\n",
              "       width=\"24px\">\n",
              "    <path d=\"M0 0h24v24H0V0z\" fill=\"none\"/>\n",
              "    <path d=\"M18.56 5.44l.94 2.06.94-2.06 2.06-.94-2.06-.94-.94-2.06-.94 2.06-2.06.94zm-11 1L8.5 8.5l.94-2.06 2.06-.94-2.06-.94L8.5 2.5l-.94 2.06-2.06.94zm10 10l.94 2.06.94-2.06 2.06-.94-2.06-.94-.94-2.06-.94 2.06-2.06.94z\"/><path d=\"M17.41 7.96l-1.37-1.37c-.4-.4-.92-.59-1.43-.59-.52 0-1.04.2-1.43.59L10.3 9.45l-7.72 7.72c-.78.78-.78 2.05 0 2.83L4 21.41c.39.39.9.59 1.41.59.51 0 1.02-.2 1.41-.59l7.78-7.78 2.81-2.81c.8-.78.8-2.07 0-2.86zM5.41 20L4 18.59l7.72-7.72 1.47 1.35L5.41 20z\"/>\n",
              "  </svg>\n",
              "      </button>\n",
              "      \n",
              "  <style>\n",
              "    .colab-df-container {\n",
              "      display:flex;\n",
              "      flex-wrap:wrap;\n",
              "      gap: 12px;\n",
              "    }\n",
              "\n",
              "    .colab-df-convert {\n",
              "      background-color: #E8F0FE;\n",
              "      border: none;\n",
              "      border-radius: 50%;\n",
              "      cursor: pointer;\n",
              "      display: none;\n",
              "      fill: #1967D2;\n",
              "      height: 32px;\n",
              "      padding: 0 0 0 0;\n",
              "      width: 32px;\n",
              "    }\n",
              "\n",
              "    .colab-df-convert:hover {\n",
              "      background-color: #E2EBFA;\n",
              "      box-shadow: 0px 1px 2px rgba(60, 64, 67, 0.3), 0px 1px 3px 1px rgba(60, 64, 67, 0.15);\n",
              "      fill: #174EA6;\n",
              "    }\n",
              "\n",
              "    [theme=dark] .colab-df-convert {\n",
              "      background-color: #3B4455;\n",
              "      fill: #D2E3FC;\n",
              "    }\n",
              "\n",
              "    [theme=dark] .colab-df-convert:hover {\n",
              "      background-color: #434B5C;\n",
              "      box-shadow: 0px 1px 3px 1px rgba(0, 0, 0, 0.15);\n",
              "      filter: drop-shadow(0px 1px 2px rgba(0, 0, 0, 0.3));\n",
              "      fill: #FFFFFF;\n",
              "    }\n",
              "  </style>\n",
              "\n",
              "      <script>\n",
              "        const buttonEl =\n",
              "          document.querySelector('#df-2f26e2c1-8c90-476f-bfb6-2ad17b69384d button.colab-df-convert');\n",
              "        buttonEl.style.display =\n",
              "          google.colab.kernel.accessAllowed ? 'block' : 'none';\n",
              "\n",
              "        async function convertToInteractive(key) {\n",
              "          const element = document.querySelector('#df-2f26e2c1-8c90-476f-bfb6-2ad17b69384d');\n",
              "          const dataTable =\n",
              "            await google.colab.kernel.invokeFunction('convertToInteractive',\n",
              "                                                     [key], {});\n",
              "          if (!dataTable) return;\n",
              "\n",
              "          const docLinkHtml = 'Like what you see? Visit the ' +\n",
              "            '<a target=\"_blank\" href=https://colab.research.google.com/notebooks/data_table.ipynb>data table notebook</a>'\n",
              "            + ' to learn more about interactive tables.';\n",
              "          element.innerHTML = '';\n",
              "          dataTable['output_type'] = 'display_data';\n",
              "          await google.colab.output.renderOutput(dataTable, element);\n",
              "          const docLink = document.createElement('div');\n",
              "          docLink.innerHTML = docLinkHtml;\n",
              "          element.appendChild(docLink);\n",
              "        }\n",
              "      </script>\n",
              "    </div>\n",
              "  </div>\n",
              "  "
            ]
          },
          "metadata": {},
          "execution_count": 92
        }
      ]
    },
    {
      "cell_type": "code",
      "source": [
        "output_df.to_csv('categories.csv')"
      ],
      "metadata": {
        "id": "LjiRF9kA1Wlu"
      },
      "id": "LjiRF9kA1Wlu",
      "execution_count": 94,
      "outputs": []
    }
  ],
  "metadata": {
    "colab": {
      "provenance": []
    },
    "gpuClass": "standard",
    "kernelspec": {
      "display_name": "Python 3 (ipykernel)",
      "language": "python",
      "name": "python3"
    },
    "language_info": {
      "codemirror_mode": {
        "name": "ipython",
        "version": 3
      },
      "file_extension": ".py",
      "mimetype": "text/x-python",
      "name": "python",
      "nbconvert_exporter": "python",
      "pygments_lexer": "ipython3",
      "version": "3.9.7"
    }
  },
  "nbformat": 4,
  "nbformat_minor": 5
}