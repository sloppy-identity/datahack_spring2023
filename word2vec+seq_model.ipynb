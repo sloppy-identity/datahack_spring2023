{
  "nbformat": 4,
  "nbformat_minor": 0,
  "metadata": {
    "colab": {
      "provenance": []
    },
    "kernelspec": {
      "name": "python3",
      "display_name": "Python 3"
    },
    "language_info": {
      "name": "python"
    },
    "accelerator": "GPU",
    "gpuClass": "standard"
  },
  "cells": [
    {
      "cell_type": "code",
      "execution_count": null,
      "metadata": {
        "id": "d19uKzDFXPiZ"
      },
      "outputs": [],
      "source": [
        "import pandas as pd\n",
        "import tensorflow as tf\n",
        "\n",
        "train_data = pd.read_csv('train.csv')[['sentence', 'sentiment']]\n",
        "train_data['sentiment'] = train_data['sentiment'].map({'−': 0, '?': 1, '+': 2})\n",
        "\n",
        "# Train Data Labels\n",
        "train_data[\"sentiment\"] = train_data[\"sentiment\"].astype('category')\n",
        "train_data[\"sentiment\"] = train_data[\"sentiment\"].cat.codes\n",
        "train_features, train_labels = train_data['sentence'], tf.one_hot(\n",
        "    train_data[\"sentiment\"], 3)\n"
      ]
    },
    {
      "cell_type": "code",
      "source": [
        "import numpy as np"
      ],
      "metadata": {
        "id": "yVECxdzs9EBk"
      },
      "execution_count": null,
      "outputs": []
    },
    {
      "cell_type": "code",
      "source": [
        "train_data.head()"
      ],
      "metadata": {
        "colab": {
          "base_uri": "https://localhost:8080/",
          "height": 206
        },
        "id": "NZRM5Emubkyh",
        "outputId": "197b6abd-f4a4-47c5-c115-1ae6a5e1ea35"
      },
      "execution_count": null,
      "outputs": [
        {
          "output_type": "execute_result",
          "data": {
            "text/plain": [
              "                                            sentence  sentiment\n",
              "0       При этом всегда получал качественные услуги.          2\n",
              "1  Не вижу, за что хотя бы 2 поставить, сервис на 1!          0\n",
              "2       Вот так \"Мой любимый\" банк МКБ меня обманул.          0\n",
              "3               Отвратительное отношение к клиентам.          0\n",
              "4  Всегда в любое время дня и ночи помогут, ответ...          2"
            ],
            "text/html": [
              "\n",
              "  <div id=\"df-48ebc8b2-e36f-481a-a534-68d7905668b6\">\n",
              "    <div class=\"colab-df-container\">\n",
              "      <div>\n",
              "<style scoped>\n",
              "    .dataframe tbody tr th:only-of-type {\n",
              "        vertical-align: middle;\n",
              "    }\n",
              "\n",
              "    .dataframe tbody tr th {\n",
              "        vertical-align: top;\n",
              "    }\n",
              "\n",
              "    .dataframe thead th {\n",
              "        text-align: right;\n",
              "    }\n",
              "</style>\n",
              "<table border=\"1\" class=\"dataframe\">\n",
              "  <thead>\n",
              "    <tr style=\"text-align: right;\">\n",
              "      <th></th>\n",
              "      <th>sentence</th>\n",
              "      <th>sentiment</th>\n",
              "    </tr>\n",
              "  </thead>\n",
              "  <tbody>\n",
              "    <tr>\n",
              "      <th>0</th>\n",
              "      <td>При этом всегда получал качественные услуги.</td>\n",
              "      <td>2</td>\n",
              "    </tr>\n",
              "    <tr>\n",
              "      <th>1</th>\n",
              "      <td>Не вижу, за что хотя бы 2 поставить, сервис на 1!</td>\n",
              "      <td>0</td>\n",
              "    </tr>\n",
              "    <tr>\n",
              "      <th>2</th>\n",
              "      <td>Вот так \"Мой любимый\" банк МКБ меня обманул.</td>\n",
              "      <td>0</td>\n",
              "    </tr>\n",
              "    <tr>\n",
              "      <th>3</th>\n",
              "      <td>Отвратительное отношение к клиентам.</td>\n",
              "      <td>0</td>\n",
              "    </tr>\n",
              "    <tr>\n",
              "      <th>4</th>\n",
              "      <td>Всегда в любое время дня и ночи помогут, ответ...</td>\n",
              "      <td>2</td>\n",
              "    </tr>\n",
              "  </tbody>\n",
              "</table>\n",
              "</div>\n",
              "      <button class=\"colab-df-convert\" onclick=\"convertToInteractive('df-48ebc8b2-e36f-481a-a534-68d7905668b6')\"\n",
              "              title=\"Convert this dataframe to an interactive table.\"\n",
              "              style=\"display:none;\">\n",
              "        \n",
              "  <svg xmlns=\"http://www.w3.org/2000/svg\" height=\"24px\"viewBox=\"0 0 24 24\"\n",
              "       width=\"24px\">\n",
              "    <path d=\"M0 0h24v24H0V0z\" fill=\"none\"/>\n",
              "    <path d=\"M18.56 5.44l.94 2.06.94-2.06 2.06-.94-2.06-.94-.94-2.06-.94 2.06-2.06.94zm-11 1L8.5 8.5l.94-2.06 2.06-.94-2.06-.94L8.5 2.5l-.94 2.06-2.06.94zm10 10l.94 2.06.94-2.06 2.06-.94-2.06-.94-.94-2.06-.94 2.06-2.06.94z\"/><path d=\"M17.41 7.96l-1.37-1.37c-.4-.4-.92-.59-1.43-.59-.52 0-1.04.2-1.43.59L10.3 9.45l-7.72 7.72c-.78.78-.78 2.05 0 2.83L4 21.41c.39.39.9.59 1.41.59.51 0 1.02-.2 1.41-.59l7.78-7.78 2.81-2.81c.8-.78.8-2.07 0-2.86zM5.41 20L4 18.59l7.72-7.72 1.47 1.35L5.41 20z\"/>\n",
              "  </svg>\n",
              "      </button>\n",
              "      \n",
              "  <style>\n",
              "    .colab-df-container {\n",
              "      display:flex;\n",
              "      flex-wrap:wrap;\n",
              "      gap: 12px;\n",
              "    }\n",
              "\n",
              "    .colab-df-convert {\n",
              "      background-color: #E8F0FE;\n",
              "      border: none;\n",
              "      border-radius: 50%;\n",
              "      cursor: pointer;\n",
              "      display: none;\n",
              "      fill: #1967D2;\n",
              "      height: 32px;\n",
              "      padding: 0 0 0 0;\n",
              "      width: 32px;\n",
              "    }\n",
              "\n",
              "    .colab-df-convert:hover {\n",
              "      background-color: #E2EBFA;\n",
              "      box-shadow: 0px 1px 2px rgba(60, 64, 67, 0.3), 0px 1px 3px 1px rgba(60, 64, 67, 0.15);\n",
              "      fill: #174EA6;\n",
              "    }\n",
              "\n",
              "    [theme=dark] .colab-df-convert {\n",
              "      background-color: #3B4455;\n",
              "      fill: #D2E3FC;\n",
              "    }\n",
              "\n",
              "    [theme=dark] .colab-df-convert:hover {\n",
              "      background-color: #434B5C;\n",
              "      box-shadow: 0px 1px 3px 1px rgba(0, 0, 0, 0.15);\n",
              "      filter: drop-shadow(0px 1px 2px rgba(0, 0, 0, 0.3));\n",
              "      fill: #FFFFFF;\n",
              "    }\n",
              "  </style>\n",
              "\n",
              "      <script>\n",
              "        const buttonEl =\n",
              "          document.querySelector('#df-48ebc8b2-e36f-481a-a534-68d7905668b6 button.colab-df-convert');\n",
              "        buttonEl.style.display =\n",
              "          google.colab.kernel.accessAllowed ? 'block' : 'none';\n",
              "\n",
              "        async function convertToInteractive(key) {\n",
              "          const element = document.querySelector('#df-48ebc8b2-e36f-481a-a534-68d7905668b6');\n",
              "          const dataTable =\n",
              "            await google.colab.kernel.invokeFunction('convertToInteractive',\n",
              "                                                     [key], {});\n",
              "          if (!dataTable) return;\n",
              "\n",
              "          const docLinkHtml = 'Like what you see? Visit the ' +\n",
              "            '<a target=\"_blank\" href=https://colab.research.google.com/notebooks/data_table.ipynb>data table notebook</a>'\n",
              "            + ' to learn more about interactive tables.';\n",
              "          element.innerHTML = '';\n",
              "          dataTable['output_type'] = 'display_data';\n",
              "          await google.colab.output.renderOutput(dataTable, element);\n",
              "          const docLink = document.createElement('div');\n",
              "          docLink.innerHTML = docLinkHtml;\n",
              "          element.appendChild(docLink);\n",
              "        }\n",
              "      </script>\n",
              "    </div>\n",
              "  </div>\n",
              "  "
            ]
          },
          "metadata": {},
          "execution_count": 20
        }
      ]
    },
    {
      "cell_type": "code",
      "source": [
        "import nltk\n",
        "nltk.download('punkt')\n",
        "from nltk.tokenize import word_tokenize\n",
        "\n",
        "tokenized_train_features = [word_tokenize(each_train_text) for each_train_text in train_features]"
      ],
      "metadata": {
        "colab": {
          "base_uri": "https://localhost:8080/"
        },
        "id": "AsZeM2APcqqE",
        "outputId": "6aacf943-35d7-47db-de96-88eb0c34a64f"
      },
      "execution_count": null,
      "outputs": [
        {
          "output_type": "stream",
          "name": "stderr",
          "text": [
            "[nltk_data] Downloading package punkt to /root/nltk_data...\n",
            "[nltk_data]   Package punkt is already up-to-date!\n"
          ]
        }
      ]
    },
    {
      "cell_type": "code",
      "source": [
        "from gensim.models import word2vec\n",
        "\n",
        "#config\n",
        "vector_size = 300\n",
        "\n",
        "w2v_model = word2vec.Word2Vec(\n",
        "    tokenized_train_features,\n",
        "    vector_size=vector_size,  # Dimensionality of the word vectors\n",
        "    window=20,\n",
        "    min_count=1,\n",
        "    sg=1  # 1 for skip-gram; otherwise CBOW\n",
        ")"
      ],
      "metadata": {
        "id": "tK_fdKFidqO-"
      },
      "execution_count": null,
      "outputs": []
    },
    {
      "cell_type": "code",
      "source": [
        "vocab_list = list(w2v_model.wv.key_to_index.keys())\n",
        "\n",
        "def remove_OOV_vocab(sample: list, list_vocab):\n",
        "    \"\"\" Takes in tokenized sample in the form of list \n",
        "    and the vocabulary list and removes tokens from sample\n",
        "    that are not in the vocabulary list\"\"\"\n",
        "    in_vocab_sample = []\n",
        "    for each_token in sample:\n",
        "        if each_token in list_vocab:\n",
        "            in_vocab_sample.append(each_token)\n",
        "    return in_vocab_sample\n",
        "  \n",
        "tokenized_train_features = [remove_OOV_vocab(each_test_sample, vocab_list) for each_test_sample in train_features]\n"
      ],
      "metadata": {
        "id": "atIxgb5yd12P"
      },
      "execution_count": null,
      "outputs": []
    },
    {
      "cell_type": "code",
      "source": [
        "vocab = w2v_model.wv.key_to_index.keys()\n",
        "embedding_matrix = w2v_model.wv[vocab]"
      ],
      "metadata": {
        "id": "qBxuZSysfK-s"
      },
      "execution_count": null,
      "outputs": []
    },
    {
      "cell_type": "code",
      "source": [
        "from tensorflow.keras.preprocessing.sequence import pad_sequences\n",
        "\n",
        "max_seq_len = 20\n",
        "\n",
        "def w2v_indexed_token_sequences(w2v_model, list_features):\n",
        "    indexed_features = []\n",
        "    for each_seq in list_features:\n",
        "        list_token_indices = []\n",
        "        for each_token in each_seq:\n",
        "            try:\n",
        "                list_token_indices.append(w2v_model.wv.key_to_index[each_token])\n",
        "            except KeyError as e:\n",
        "                continue\n",
        "        indexed_features.append(list_token_indices)\n",
        "    return indexed_features\n",
        "\n",
        "indexed_train_features = w2v_indexed_token_sequences(w2v_model, tokenized_train_features)\n",
        "\n",
        "padded_train = pad_sequences(indexed_train_features, padding = 'post', maxlen=max_seq_len, truncating='post')"
      ],
      "metadata": {
        "id": "qkenUMFLfPiL"
      },
      "execution_count": null,
      "outputs": []
    },
    {
      "cell_type": "code",
      "source": [
        "import tensorflow as tf\n",
        "import tensorflow.keras as keras\n",
        "from tensorflow.keras import Sequential\n",
        "from tensorflow.keras.layers import Dense, Embedding, Dropout, LSTM\n",
        "\n",
        "def get_model():\n",
        "    model = Sequential()\n",
        "    model.add(\n",
        "        Embedding(input_dim=21450,\n",
        "                  output_dim=vector_size,\n",
        "                  weights=[embedding_matrix],\n",
        "                  input_length=max_seq_len))\n",
        "    model.add(Dropout(0.6))\n",
        "    model.add(LSTM(max_seq_len,return_sequences=True))\n",
        "    model.add(LSTM(3))\n",
        "    model.add(Dense(3,activation='softmax'))\n",
        "    return model\n",
        " \n",
        "# Adding callbacks for best model checkpoint\n",
        "callbacks = [\n",
        "    keras.callbacks.EarlyStopping(monitor=\"val_loss\",\n",
        "                                  patience=2,\n",
        "                                  verbose=1,\n",
        "                                  restore_best_weights=True),\n",
        "    keras.callbacks.ModelCheckpoint(filepath='models/lstm_with_w2v.hdf5',\n",
        "                                    verbose=1,\n",
        "                                    save_best_only=True)\n",
        "]\n",
        "\n",
        "model = get_model()\n",
        "model.compile(optimizer='adam',loss='categorical_crossentropy',metrics=[tf.keras.metrics.AUC()])\n",
        "\n",
        "tf.config.run_functions_eagerly(True)\n",
        "\n",
        "# storing model training details to analyze later\n",
        "history = model.fit(padded_train, \n",
        "                    train_labels,\n",
        "                    validation_split=0.33,\n",
        "                    callbacks=callbacks,\n",
        "                    epochs=10)"
      ],
      "metadata": {
        "colab": {
          "base_uri": "https://localhost:8080/"
        },
        "id": "Eqz4z_Gff4Vz",
        "outputId": "746943fb-9602-4cd3-baa5-cd92f5d2dfb5"
      },
      "execution_count": null,
      "outputs": [
        {
          "output_type": "stream",
          "name": "stdout",
          "text": [
            "Epoch 1/10\n",
            "  2/406 [..............................] - ETA: 25s - loss: 1.0896 - auc_1: 0.5965"
          ]
        },
        {
          "output_type": "stream",
          "name": "stderr",
          "text": [
            "/usr/local/lib/python3.9/dist-packages/tensorflow/python/data/ops/structured_function.py:254: UserWarning: Even though the `tf.config.experimental_run_functions_eagerly` option is set, this option does not apply to tf.data functions. To force eager execution of tf.data functions, please use `tf.data.experimental.enable_debug_mode()`.\n",
            "  warnings.warn(\n"
          ]
        },
        {
          "output_type": "stream",
          "name": "stdout",
          "text": [
            "406/406 [==============================] - ETA: 0s - loss: 0.9895 - auc_1: 0.6997\n",
            "Epoch 1: val_loss improved from inf to 0.95814, saving model to models/lstm_with_w2v.hdf5\n",
            "406/406 [==============================] - 39s 95ms/step - loss: 0.9895 - auc_1: 0.6997 - val_loss: 0.9581 - val_auc_1: 0.7293\n",
            "Epoch 2/10\n",
            "406/406 [==============================] - ETA: 0s - loss: 0.9469 - auc_1: 0.7343\n",
            "Epoch 2: val_loss improved from 0.95814 to 0.91924, saving model to models/lstm_with_w2v.hdf5\n",
            "406/406 [==============================] - 35s 86ms/step - loss: 0.9469 - auc_1: 0.7343 - val_loss: 0.9192 - val_auc_1: 0.7554\n",
            "Epoch 3/10\n",
            "406/406 [==============================] - ETA: 0s - loss: 0.9239 - auc_1: 0.7512\n",
            "Epoch 3: val_loss improved from 0.91924 to 0.90966, saving model to models/lstm_with_w2v.hdf5\n",
            "406/406 [==============================] - 39s 95ms/step - loss: 0.9239 - auc_1: 0.7512 - val_loss: 0.9097 - val_auc_1: 0.7647\n",
            "Epoch 4/10\n",
            "406/406 [==============================] - ETA: 0s - loss: 0.9101 - auc_1: 0.7610\n",
            "Epoch 4: val_loss improved from 0.90966 to 0.89819, saving model to models/lstm_with_w2v.hdf5\n",
            "406/406 [==============================] - 33s 82ms/step - loss: 0.9101 - auc_1: 0.7610 - val_loss: 0.8982 - val_auc_1: 0.7714\n",
            "Epoch 5/10\n",
            "406/406 [==============================] - ETA: 0s - loss: 0.8917 - auc_1: 0.7728\n",
            "Epoch 5: val_loss improved from 0.89819 to 0.88773, saving model to models/lstm_with_w2v.hdf5\n",
            "406/406 [==============================] - 33s 81ms/step - loss: 0.8917 - auc_1: 0.7728 - val_loss: 0.8877 - val_auc_1: 0.7755\n",
            "Epoch 6/10\n",
            "406/406 [==============================] - ETA: 0s - loss: 0.8777 - auc_1: 0.7813\n",
            "Epoch 6: val_loss improved from 0.88773 to 0.87220, saving model to models/lstm_with_w2v.hdf5\n",
            "406/406 [==============================] - 33s 82ms/step - loss: 0.8777 - auc_1: 0.7813 - val_loss: 0.8722 - val_auc_1: 0.7869\n",
            "Epoch 7/10\n",
            "406/406 [==============================] - ETA: 0s - loss: 0.8621 - auc_1: 0.7906\n",
            "Epoch 7: val_loss improved from 0.87220 to 0.86131, saving model to models/lstm_with_w2v.hdf5\n",
            "406/406 [==============================] - 33s 82ms/step - loss: 0.8621 - auc_1: 0.7906 - val_loss: 0.8613 - val_auc_1: 0.7915\n",
            "Epoch 8/10\n",
            "406/406 [==============================] - ETA: 0s - loss: 0.8489 - auc_1: 0.7980\n",
            "Epoch 8: val_loss improved from 0.86131 to 0.84620, saving model to models/lstm_with_w2v.hdf5\n",
            "406/406 [==============================] - 38s 94ms/step - loss: 0.8489 - auc_1: 0.7980 - val_loss: 0.8462 - val_auc_1: 0.8001\n",
            "Epoch 9/10\n",
            "406/406 [==============================] - ETA: 0s - loss: 0.8346 - auc_1: 0.8060\n",
            "Epoch 9: val_loss improved from 0.84620 to 0.83832, saving model to models/lstm_with_w2v.hdf5\n",
            "406/406 [==============================] - 38s 94ms/step - loss: 0.8346 - auc_1: 0.8060 - val_loss: 0.8383 - val_auc_1: 0.8047\n",
            "Epoch 10/10\n",
            "406/406 [==============================] - ETA: 0s - loss: 0.8259 - auc_1: 0.8108\n",
            "Epoch 10: val_loss improved from 0.83832 to 0.83106, saving model to models/lstm_with_w2v.hdf5\n",
            "406/406 [==============================] - 33s 82ms/step - loss: 0.8259 - auc_1: 0.8108 - val_loss: 0.8311 - val_auc_1: 0.8079\n"
          ]
        }
      ]
    },
    {
      "cell_type": "code",
      "source": [
        "print(train_labels)"
      ],
      "metadata": {
        "colab": {
          "base_uri": "https://localhost:8080/"
        },
        "id": "2Pnx_zMR1CZR",
        "outputId": "8e01d9d4-c9c3-4807-aec6-33435b6e8e43"
      },
      "execution_count": null,
      "outputs": [
        {
          "output_type": "stream",
          "name": "stdout",
          "text": [
            "tf.Tensor(\n",
            "[[0. 0. 1.]\n",
            " [1. 0. 0.]\n",
            " [1. 0. 0.]\n",
            " ...\n",
            " [0. 0. 1.]\n",
            " [0. 0. 1.]\n",
            " [1. 0. 0.]], shape=(19361, 3), dtype=float32)\n"
          ]
        }
      ]
    },
    {
      "cell_type": "code",
      "source": [
        "model_with_w2v = keras.models.load_model('models/lstm_with_w2v.hdf5')"
      ],
      "metadata": {
        "id": "5Q72Kb2T6DnK"
      },
      "execution_count": null,
      "outputs": []
    },
    {
      "cell_type": "code",
      "source": [
        "y_pred_one_hot_encoded = (model_with_w2v.predict(padded_train)> 0.5).astype(\"int32\")\n",
        "y_pred_train = np.array(tf.argmax(y_pred_one_hot_encoded, axis=1))"
      ],
      "metadata": {
        "colab": {
          "base_uri": "https://localhost:8080/"
        },
        "id": "AO39TM3k_fA9",
        "outputId": "56df0eca-9e9a-4904-b7ec-91c954a961c6"
      },
      "execution_count": null,
      "outputs": [
        {
          "output_type": "stream",
          "name": "stdout",
          "text": [
            "606/606 [==============================] - 9s 15ms/step\n"
          ]
        }
      ]
    },
    {
      "cell_type": "code",
      "source": [
        "print(y_pred_train[:100])"
      ],
      "metadata": {
        "colab": {
          "base_uri": "https://localhost:8080/"
        },
        "id": "QTtXQfOc_nbk",
        "outputId": "e645c38a-b690-4233-820e-9a7613948252"
      },
      "execution_count": null,
      "outputs": [
        {
          "output_type": "stream",
          "name": "stdout",
          "text": [
            "[0 0 0 0 2 2 0 0 0 0 2 0 0 0 0 0 0 0 0 0 0 0 0 0 0 0 0 0 2 0 2 0 0 0 0 0 2\n",
            " 0 0 0 2 0 0 0 0 0 0 0 0 0 0 0 0 0 0 0 0 0 0 0 0 0 0 1 0 0 0 0 0 0 0 0 0 2\n",
            " 0 0 0 0 0 0 0 2 0 1 0 0 0 2 0 0 0 0 0 0 0 0 0 0 0 0]\n"
          ]
        }
      ]
    },
    {
      "cell_type": "code",
      "source": [
        "from sklearn.metrics import classification_report\n",
        "# Training set\n",
        "print(classification_report(train_data['sentiment'], y_pred_train))"
      ],
      "metadata": {
        "id": "eEKaPGab_dE1"
      },
      "execution_count": null,
      "outputs": []
    },
    {
      "cell_type": "code",
      "source": [
        "test_data = pd.read_csv('''the file will be here''')\n",
        "\n",
        "# Test Data Labels\n",
        "test_data[\"sentiment\"] = test_data[\"sentiment\"].astype('category')\n",
        "test_data[\"sentiment\"] = test_data[\"sentiment\"].cat.codes\n",
        "test_features, test_labels = test_data['sentence'], tf.one_hot(\n",
        "    test_data[\"sentiment\"], 3)"
      ],
      "metadata": {
        "id": "ZdeLJSgp1XC1"
      },
      "execution_count": null,
      "outputs": []
    },
    {
      "cell_type": "code",
      "source": [
        "tokenized_test_features = [word_tokenize(each_test_text) for each_test_text in test_features]\n",
        "tokenized_test_features = [remove_OOV_vocab(each_test_sample, vocab_list) for each_test_sample in tokenized_test_features]"
      ],
      "metadata": {
        "colab": {
          "base_uri": "https://localhost:8080/",
          "height": 165
        },
        "id": "uz6xLNyD2XjU",
        "outputId": "4b6f0dab-0cf6-4665-85ce-31441a8942aa"
      },
      "execution_count": null,
      "outputs": [
        {
          "output_type": "error",
          "ename": "AttributeError",
          "evalue": "ignored",
          "traceback": [
            "\u001b[0;31m---------------------------------------------------------------------------\u001b[0m",
            "\u001b[0;31mAttributeError\u001b[0m                            Traceback (most recent call last)",
            "\u001b[0;32m<ipython-input-16-620cc66f6750>\u001b[0m in \u001b[0;36m<cell line: 1>\u001b[0;34m()\u001b[0m\n\u001b[0;32m----> 1\u001b[0;31m \u001b[0mkeras\u001b[0m\u001b[0;34m.\u001b[0m\u001b[0mmetrics_names\u001b[0m\u001b[0;34m\u001b[0m\u001b[0;34m\u001b[0m\u001b[0m\n\u001b[0m",
            "\u001b[0;31mAttributeError\u001b[0m: module 'tensorflow.keras' has no attribute 'metrics_names'"
          ]
        }
      ]
    },
    {
      "cell_type": "code",
      "source": [
        "indexed_test_features = w2v_indexed_token_sequences(w2v_model, tokenized_test_features)\n",
        "padded_test = pad_sequences(indexed_test_features, padding = 'post', maxlen=max_seq_len, truncating='post')"
      ],
      "metadata": {
        "id": "9gpxqhb45MsV"
      },
      "execution_count": null,
      "outputs": []
    },
    {
      "cell_type": "code",
      "source": [
        "y_pred_one_hot_encoded = (model_with_w2v.predict(padded_test)> 0.5).astype(\"int32\")\n",
        "y_pred_test = np.array(tf.argmax(y_pred_one_hot_encoded, axis=1))"
      ],
      "metadata": {
        "id": "MT0dO8dq9Bu4"
      },
      "execution_count": null,
      "outputs": []
    },
    {
      "cell_type": "code",
      "source": [
        "# Test Set\n",
        "print(classification_report(test_data['sentiment'], y_pred_test))"
      ],
      "metadata": {
        "id": "UvUSG5y-9P1T"
      },
      "execution_count": null,
      "outputs": []
    }
  ]
}